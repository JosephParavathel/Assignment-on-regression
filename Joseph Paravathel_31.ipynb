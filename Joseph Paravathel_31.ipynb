{
 "cells": [
  {
   "cell_type": "markdown",
   "id": "c2cf3087",
   "metadata": {},
   "source": [
    "### *Importing the essential libraries."
   ]
  },
  {
   "cell_type": "code",
   "execution_count": 52,
   "id": "a059880b",
   "metadata": {},
   "outputs": [],
   "source": [
    "import numpy as np\n",
    "import pandas as pd\n",
    "import seaborn as sns\n",
    "import matplotlib.pyplot as plt"
   ]
  },
  {
   "cell_type": "markdown",
   "id": "c4f7855a",
   "metadata": {},
   "source": [
    "### *Loading the dataset into python enviornment."
   ]
  },
  {
   "cell_type": "code",
   "execution_count": 53,
   "id": "7c2f3c66",
   "metadata": {},
   "outputs": [],
   "source": [
    "data=pd.read_csv(r\"C:\\Users\\HP\\Downloads\\car_age_price.csv\")"
   ]
  },
  {
   "cell_type": "code",
   "execution_count": 54,
   "id": "ee4f18e1",
   "metadata": {},
   "outputs": [
    {
     "data": {
      "text/html": [
       "<div>\n",
       "<style scoped>\n",
       "    .dataframe tbody tr th:only-of-type {\n",
       "        vertical-align: middle;\n",
       "    }\n",
       "\n",
       "    .dataframe tbody tr th {\n",
       "        vertical-align: top;\n",
       "    }\n",
       "\n",
       "    .dataframe thead th {\n",
       "        text-align: right;\n",
       "    }\n",
       "</style>\n",
       "<table border=\"1\" class=\"dataframe\">\n",
       "  <thead>\n",
       "    <tr style=\"text-align: right;\">\n",
       "      <th></th>\n",
       "      <th>Year</th>\n",
       "      <th>Price</th>\n",
       "    </tr>\n",
       "  </thead>\n",
       "  <tbody>\n",
       "    <tr>\n",
       "      <th>0</th>\n",
       "      <td>2018</td>\n",
       "      <td>465000</td>\n",
       "    </tr>\n",
       "    <tr>\n",
       "      <th>1</th>\n",
       "      <td>2019</td>\n",
       "      <td>755000</td>\n",
       "    </tr>\n",
       "    <tr>\n",
       "      <th>2</th>\n",
       "      <td>2019</td>\n",
       "      <td>700000</td>\n",
       "    </tr>\n",
       "    <tr>\n",
       "      <th>3</th>\n",
       "      <td>2018</td>\n",
       "      <td>465000</td>\n",
       "    </tr>\n",
       "    <tr>\n",
       "      <th>4</th>\n",
       "      <td>2018</td>\n",
       "      <td>465000</td>\n",
       "    </tr>\n",
       "  </tbody>\n",
       "</table>\n",
       "</div>"
      ],
      "text/plain": [
       "   Year   Price\n",
       "0  2018  465000\n",
       "1  2019  755000\n",
       "2  2019  700000\n",
       "3  2018  465000\n",
       "4  2018  465000"
      ]
     },
     "execution_count": 54,
     "metadata": {},
     "output_type": "execute_result"
    }
   ],
   "source": [
    "data.head()                 #Displaying the dataset"
   ]
  },
  {
   "cell_type": "markdown",
   "id": "f1203977",
   "metadata": {},
   "source": [
    "### *Checking the basic details of the dataset."
   ]
  },
  {
   "cell_type": "code",
   "execution_count": 55,
   "id": "c15df3c7",
   "metadata": {},
   "outputs": [
    {
     "data": {
      "text/plain": [
       "(112, 2)"
      ]
     },
     "execution_count": 55,
     "metadata": {},
     "output_type": "execute_result"
    }
   ],
   "source": [
    "data.shape                     #It has two columns and 112 rows."
   ]
  },
  {
   "cell_type": "code",
   "execution_count": 56,
   "id": "6371ead1",
   "metadata": {},
   "outputs": [
    {
     "data": {
      "text/plain": [
       "Index(['Year', 'Price'], dtype='object')"
      ]
     },
     "execution_count": 56,
     "metadata": {},
     "output_type": "execute_result"
    }
   ],
   "source": [
    "data.columns                  #It has two columns year and price."
   ]
  },
  {
   "cell_type": "code",
   "execution_count": 57,
   "id": "c6e64a2a",
   "metadata": {},
   "outputs": [
    {
     "name": "stdout",
     "output_type": "stream",
     "text": [
      "<class 'pandas.core.frame.DataFrame'>\n",
      "RangeIndex: 112 entries, 0 to 111\n",
      "Data columns (total 2 columns):\n",
      " #   Column  Non-Null Count  Dtype\n",
      "---  ------  --------------  -----\n",
      " 0   Year    112 non-null    int64\n",
      " 1   Price   112 non-null    int64\n",
      "dtypes: int64(2)\n",
      "memory usage: 1.9 KB\n"
     ]
    }
   ],
   "source": [
    "data.info()"
   ]
  },
  {
   "cell_type": "code",
   "execution_count": 58,
   "id": "85aeee0a",
   "metadata": {},
   "outputs": [
    {
     "data": {
      "text/html": [
       "<div>\n",
       "<style scoped>\n",
       "    .dataframe tbody tr th:only-of-type {\n",
       "        vertical-align: middle;\n",
       "    }\n",
       "\n",
       "    .dataframe tbody tr th {\n",
       "        vertical-align: top;\n",
       "    }\n",
       "\n",
       "    .dataframe thead th {\n",
       "        text-align: right;\n",
       "    }\n",
       "</style>\n",
       "<table border=\"1\" class=\"dataframe\">\n",
       "  <thead>\n",
       "    <tr style=\"text-align: right;\">\n",
       "      <th></th>\n",
       "      <th>Year</th>\n",
       "      <th>Price</th>\n",
       "    </tr>\n",
       "  </thead>\n",
       "  <tbody>\n",
       "    <tr>\n",
       "      <th>count</th>\n",
       "      <td>112.000000</td>\n",
       "      <td>112.000000</td>\n",
       "    </tr>\n",
       "    <tr>\n",
       "      <th>mean</th>\n",
       "      <td>2016.669643</td>\n",
       "      <td>483866.044643</td>\n",
       "    </tr>\n",
       "    <tr>\n",
       "      <th>std</th>\n",
       "      <td>1.629616</td>\n",
       "      <td>91217.450533</td>\n",
       "    </tr>\n",
       "    <tr>\n",
       "      <th>min</th>\n",
       "      <td>2013.000000</td>\n",
       "      <td>300000.000000</td>\n",
       "    </tr>\n",
       "    <tr>\n",
       "      <th>25%</th>\n",
       "      <td>2015.000000</td>\n",
       "      <td>423750.000000</td>\n",
       "    </tr>\n",
       "    <tr>\n",
       "      <th>50%</th>\n",
       "      <td>2017.000000</td>\n",
       "      <td>500000.000000</td>\n",
       "    </tr>\n",
       "    <tr>\n",
       "      <th>75%</th>\n",
       "      <td>2017.000000</td>\n",
       "      <td>550000.000000</td>\n",
       "    </tr>\n",
       "    <tr>\n",
       "      <th>max</th>\n",
       "      <td>2020.000000</td>\n",
       "      <td>755000.000000</td>\n",
       "    </tr>\n",
       "  </tbody>\n",
       "</table>\n",
       "</div>"
      ],
      "text/plain": [
       "              Year          Price\n",
       "count   112.000000     112.000000\n",
       "mean   2016.669643  483866.044643\n",
       "std       1.629616   91217.450533\n",
       "min    2013.000000  300000.000000\n",
       "25%    2015.000000  423750.000000\n",
       "50%    2017.000000  500000.000000\n",
       "75%    2017.000000  550000.000000\n",
       "max    2020.000000  755000.000000"
      ]
     },
     "execution_count": 58,
     "metadata": {},
     "output_type": "execute_result"
    }
   ],
   "source": [
    "data.describe()                  #Checking for descriptove statistics."
   ]
  },
  {
   "cell_type": "code",
   "execution_count": 59,
   "id": "9adb5301",
   "metadata": {},
   "outputs": [
    {
     "data": {
      "text/plain": [
       "Year     0\n",
       "Price    0\n",
       "dtype: int64"
      ]
     },
     "execution_count": 59,
     "metadata": {},
     "output_type": "execute_result"
    }
   ],
   "source": [
    "data.isnull().sum()              #Checking for null values.It has no null values."
   ]
  },
  {
   "cell_type": "code",
   "execution_count": 60,
   "id": "72d3e549",
   "metadata": {},
   "outputs": [
    {
     "data": {
      "text/plain": [
       "Year      8\n",
       "Price    35\n",
       "dtype: int64"
      ]
     },
     "execution_count": 60,
     "metadata": {},
     "output_type": "execute_result"
    }
   ],
   "source": [
    "data.nunique()                  #Checking for the unique values."
   ]
  },
  {
   "cell_type": "code",
   "execution_count": 61,
   "id": "b6f89c31",
   "metadata": {},
   "outputs": [
    {
     "data": {
      "text/plain": [
       "array([2018, 2019, 2015, 2016, 2017, 2020, 2013, 2014], dtype=int64)"
      ]
     },
     "execution_count": 61,
     "metadata": {},
     "output_type": "execute_result"
    }
   ],
   "source": [
    "data['Year'].unique()          #Checking for the unique values in variable year."
   ]
  },
  {
   "cell_type": "markdown",
   "id": "999a6f9b",
   "metadata": {},
   "source": [
    "### *Finding the correlation between variables 'Year' and 'Price'"
   ]
  },
  {
   "cell_type": "code",
   "execution_count": 62,
   "id": "2e9f8368",
   "metadata": {},
   "outputs": [
    {
     "data": {
      "text/plain": [
       "<AxesSubplot:>"
      ]
     },
     "execution_count": 62,
     "metadata": {},
     "output_type": "execute_result"
    },
    {
     "data": {
      "image/png": "[encoded data removed]",
      "text/plain": [
       "<Figure size 300x300 with 2 Axes>"
      ]
     },
     "metadata": {},
     "output_type": "display_data"
    }
   ],
   "source": [
    "corrmatrix=data.corr()\n",
    "plt.subplots(figsize=(3,3))\n",
    "sns.heatmap(corrmatrix,annot=True,cmap='YlGnBu')"
   ]
  },
  {
   "cell_type": "markdown",
   "id": "89692d31",
   "metadata": {},
   "source": [
    "INFERENCE:Variable 'year' and 'Price' are highly correlated."
   ]
  },
  {
   "cell_type": "markdown",
   "id": "c24853dd",
   "metadata": {},
   "source": [
    "### *Splitting the dataset into features and target."
   ]
  },
  {
   "cell_type": "code",
   "execution_count": 63,
   "id": "e222e24d",
   "metadata": {},
   "outputs": [],
   "source": [
    "y=data['Price']\n",
    "x=data.drop('Price',axis=1)"
   ]
  },
  {
   "cell_type": "code",
   "execution_count": 64,
   "id": "48901b4c",
   "metadata": {},
   "outputs": [
    {
     "name": "stdout",
     "output_type": "stream",
     "text": [
      "     Year\n",
      "0    2018\n",
      "1    2019\n",
      "2    2019\n",
      "3    2018\n",
      "4    2018\n",
      "..    ...\n",
      "107  2016\n",
      "108  2014\n",
      "109  2015\n",
      "110  2016\n",
      "111  2015\n",
      "\n",
      "[112 rows x 1 columns]\n"
     ]
    }
   ],
   "source": [
    "print(x)                        #Features"
   ]
  },
  {
   "cell_type": "code",
   "execution_count": 65,
   "id": "aa11635d",
   "metadata": {},
   "outputs": [
    {
     "name": "stdout",
     "output_type": "stream",
     "text": [
      "0      465000\n",
      "1      755000\n",
      "2      700000\n",
      "3      465000\n",
      "4      465000\n",
      "        ...  \n",
      "107    375000\n",
      "108    300000\n",
      "109    425000\n",
      "110    420000\n",
      "111    425000\n",
      "Name: Price, Length: 112, dtype: int64\n"
     ]
    }
   ],
   "source": [
    "print(y)                      #Target."
   ]
  },
  {
   "cell_type": "code",
   "execution_count": 66,
   "id": "3ed9ab96",
   "metadata": {},
   "outputs": [
    {
     "data": {
      "image/png": "[encoded data removed]",
      "text/plain": [
       "<Figure size 640x480 with 1 Axes>"
      ]
     },
     "metadata": {},
     "output_type": "display_data"
    }
   ],
   "source": [
    "plt.scatter(x,y,color='blue')                    #Plotting the variable 'Price' w.r.t variable 'Year'.\n",
    "plt.title('Simple Linear Regression')\n",
    "plt.xlabel('Year')\n",
    "plt.ylabel('Price')\n",
    "plt.show()"
   ]
  },
  {
   "cell_type": "markdown",
   "id": "673595af",
   "metadata": {},
   "source": [
    "### *Splitting the data into Training and Testing data."
   ]
  },
  {
   "cell_type": "code",
   "execution_count": 67,
   "id": "1eb852c5",
   "metadata": {},
   "outputs": [],
   "source": [
    "from sklearn.model_selection import train_test_split           #Importing the library for splitting data."
   ]
  },
  {
   "cell_type": "code",
   "execution_count": 68,
   "id": "a6d4a0db",
   "metadata": {},
   "outputs": [],
   "source": [
    "x_train,x_test,y_train,y_test=train_test_split(x,y,test_size=.2,random_state=42)    #Splitting the data."
   ]
  },
  {
   "cell_type": "code",
   "execution_count": 69,
   "id": "cef6eae5",
   "metadata": {},
   "outputs": [],
   "source": [
    "from sklearn.linear_model import LinearRegression             #Importing library for model creation."
   ]
  },
  {
   "cell_type": "code",
   "execution_count": 70,
   "id": "e792acf3",
   "metadata": {},
   "outputs": [],
   "source": [
    "lr1=LinearRegression()"
   ]
  },
  {
   "cell_type": "code",
   "execution_count": 71,
   "id": "fccf09fd",
   "metadata": {},
   "outputs": [
    {
     "name": "stdout",
     "output_type": "stream",
     "text": [
      "[47608.56780808]\n"
     ]
    }
   ],
   "source": [
    "model1=lr1.fit(x_train,y_train)                               #Creating the model.\n",
    "print(model1.coef_)"
   ]
  },
  {
   "cell_type": "markdown",
   "id": "0b0ca913",
   "metadata": {},
   "source": [
    "INFERENCE:The model1.coef_ is a quantity that shows the relation between Price and Year."
   ]
  },
  {
   "cell_type": "code",
   "execution_count": 72,
   "id": "b56038e6",
   "metadata": {},
   "outputs": [
    {
     "data": {
      "image/png": "[encoded data removed]",
      "text/plain": [
       "<Figure size 640x480 with 1 Axes>"
      ]
     },
     "metadata": {},
     "output_type": "display_data"
    }
   ],
   "source": [
    "plt.scatter(x,y,color='blue')\n",
    "plt.plot(x,model1.predict(x),color='green')\n",
    "plt.title('Simple Linear Regression')\n",
    "plt.xlabel('Years')\n",
    "plt.ylabel('Price')\n",
    "plt.show()"
   ]
  },
  {
   "cell_type": "markdown",
   "id": "24743c4d",
   "metadata": {},
   "source": [
    "INFERENCE:The green line represent the best fit line."
   ]
  },
  {
   "cell_type": "code",
   "execution_count": 73,
   "id": "2257bdb3",
   "metadata": {},
   "outputs": [],
   "source": [
    "y_pred=model1.predict(x_test)                   #Predicting the values for x_test using model."
   ]
  },
  {
   "cell_type": "code",
   "execution_count": 74,
   "id": "8eb26337",
   "metadata": {},
   "outputs": [
    {
     "name": "stdout",
     "output_type": "stream",
     "text": [
      "     Year\n",
      "40   2019\n",
      "65   2017\n",
      "4    2018\n",
      "47   2018\n",
      "42   2018\n",
      "69   2015\n",
      "26   2017\n",
      "11   2018\n",
      "10   2019\n",
      "44   2019\n",
      "73   2013\n",
      "55   2017\n",
      "68   2015\n",
      "97   2020\n",
      "0    2018\n",
      "18   2019\n",
      "53   2013\n",
      "80   2015\n",
      "103  2017\n",
      "91   2017\n",
      "36   2017\n",
      "12   2017\n",
      "31   2017\n",
      "predicted price [600775.91252081 505558.77690466 553167.34471273 553167.34471273\n",
      " 553167.34471273 410341.6412885  505558.77690466 553167.34471273\n",
      " 600775.91252081 600775.91252081 315124.50567235 505558.77690466\n",
      " 410341.6412885  648384.48032889 553167.34471273 600775.91252081\n",
      " 315124.50567235 410341.6412885  505558.77690466 505558.77690466\n",
      " 505558.77690466 505558.77690466 505558.77690466]\n"
     ]
    }
   ],
   "source": [
    "print(x_test)\n",
    "print('predicted price',y_pred)"
   ]
  },
  {
   "cell_type": "markdown",
   "id": "a7f84bb5",
   "metadata": {},
   "source": [
    "### *Evaluating the model"
   ]
  },
  {
   "cell_type": "code",
   "execution_count": 75,
   "id": "bba2d0e4",
   "metadata": {},
   "outputs": [],
   "source": [
    "from sklearn.metrics import mean_squared_error,r2_score                   #importing the library."
   ]
  },
  {
   "cell_type": "code",
   "execution_count": 76,
   "id": "81a92099",
   "metadata": {},
   "outputs": [
    {
     "name": "stdout",
     "output_type": "stream",
     "text": [
      "Mean Squared Error is :  4326906256.829671\n",
      "R squared value is :  0.36759313425902185\n"
     ]
    }
   ],
   "source": [
    "print(\"Mean Squared Error is : \", mean_squared_error(y_test,y_pred))      \n",
    "print(\"R squared value is : \",r2_score(y_test,y_pred))"
   ]
  },
  {
   "cell_type": "markdown",
   "id": "226e3185",
   "metadata": {},
   "source": [
    "### Predicting the possible price for a 2022 model second-hand grand i10."
   ]
  },
  {
   "cell_type": "code",
   "execution_count": 77,
   "id": "99f2f5c9",
   "metadata": {},
   "outputs": [
    {
     "data": {
      "text/plain": [
       "array([743601.61594504])"
      ]
     },
     "execution_count": 77,
     "metadata": {},
     "output_type": "execute_result"
    }
   ],
   "source": [
    "year = [2022]\n",
    "year = pd.DataFrame(year, columns=['Year'])\n",
    "y_pred = model1.predict(year)\n",
    "y_pred"
   ]
  },
  {
   "cell_type": "markdown",
   "id": "47872ff2",
   "metadata": {},
   "source": [
    "INFERENCE:The possible price of a 2022 model second-hand grand i10 is 743601.61"
   ]
  },
  {
   "cell_type": "markdown",
   "id": "0d5b6d5c",
   "metadata": {},
   "source": [
    "## Lasso Regression Model"
   ]
  },
  {
   "cell_type": "code",
   "execution_count": 78,
   "id": "c55f7a65",
   "metadata": {},
   "outputs": [],
   "source": [
    "from sklearn.linear_model import Lasso              #Importing the library."
   ]
  },
  {
   "cell_type": "code",
   "execution_count": 79,
   "id": "56c707f3",
   "metadata": {},
   "outputs": [],
   "source": [
    "lasso=Lasso(alpha=1.0)"
   ]
  },
  {
   "cell_type": "code",
   "execution_count": 80,
   "id": "0f7a901f",
   "metadata": {},
   "outputs": [],
   "source": [
    "model2=lasso.fit(x_train,y_train)                  #Creating a model."
   ]
  },
  {
   "cell_type": "code",
   "execution_count": 81,
   "id": "dce33308",
   "metadata": {},
   "outputs": [],
   "source": [
    "y_pred2=model2.predict(x_test)                     #Predicting the values for x_test using the model we created."
   ]
  },
  {
   "cell_type": "code",
   "execution_count": 82,
   "id": "fa6e4783",
   "metadata": {},
   "outputs": [
    {
     "data": {
      "text/plain": [
       "array([600774.90747294, 505558.59627394, 553166.75187345, 553166.75187345,\n",
       "       553166.75187345, 410342.28507493, 505558.59627394, 553166.75187345,\n",
       "       600774.90747294, 600774.90747294, 315125.97387594, 505558.59627394,\n",
       "       410342.28507493, 648383.06307244, 553166.75187345, 600774.90747294,\n",
       "       315125.97387594, 410342.28507493, 505558.59627394, 505558.59627394,\n",
       "       505558.59627394, 505558.59627394, 505558.59627394])"
      ]
     },
     "execution_count": 82,
     "metadata": {},
     "output_type": "execute_result"
    }
   ],
   "source": [
    "y_pred2"
   ]
  },
  {
   "cell_type": "markdown",
   "id": "ba22e033",
   "metadata": {},
   "source": [
    "### *Evaluating the model"
   ]
  },
  {
   "cell_type": "code",
   "execution_count": 83,
   "id": "b7324951",
   "metadata": {},
   "outputs": [
    {
     "name": "stdout",
     "output_type": "stream",
     "text": [
      "Mean squared error  4326859771.015669\n"
     ]
    }
   ],
   "source": [
    "mean_squared_error = np.mean((y_pred2 - y_test)**2)\n",
    "print('Mean squared error ', mean_squared_error)"
   ]
  },
  {
   "cell_type": "code",
   "execution_count": 84,
   "id": "08e270ce",
   "metadata": {},
   "outputs": [
    {
     "name": "stdout",
     "output_type": "stream",
     "text": [
      "R Squared value is: 0.3675999284778446\n"
     ]
    }
   ],
   "source": [
    "print('R Squared value is:',r2_score(y_test,y_pred2))"
   ]
  },
  {
   "cell_type": "code",
   "execution_count": 85,
   "id": "eee952d8",
   "metadata": {},
   "outputs": [
    {
     "name": "stdout",
     "output_type": "stream",
     "text": [
      "  Columns  Coefficient Estimate\n",
      "0    Year            47608.1556\n"
     ]
    }
   ],
   "source": [
    "lasso_coeff = pd.DataFrame()\n",
    "lasso_coeff['Columns'] = x_train.columns\n",
    "lasso_coeff['Coefficient Estimate'] = pd.Series(lasso.coef_)\n",
    " \n",
    "print(lasso_coeff)"
   ]
  },
  {
   "cell_type": "markdown",
   "id": "04e986fb",
   "metadata": {},
   "source": [
    "### Predicting the possible price for a 2022 model second-hand grand i10."
   ]
  },
  {
   "cell_type": "code",
   "execution_count": 86,
   "id": "eeaf3220",
   "metadata": {},
   "outputs": [
    {
     "data": {
      "text/plain": [
       "array([743599.37427144])"
      ]
     },
     "execution_count": 86,
     "metadata": {},
     "output_type": "execute_result"
    }
   ],
   "source": [
    "year = [2022]\n",
    "year = pd.DataFrame(year, columns=['Year'])\n",
    "y_pred2 = model2.predict(year)\n",
    "y_pred2"
   ]
  },
  {
   "cell_type": "markdown",
   "id": "abf5e5a1",
   "metadata": {},
   "source": [
    "INFERENCE: The possible price of a 2022 model second-hand grand i10 is 743599.37"
   ]
  },
  {
   "cell_type": "markdown",
   "id": "5bc2f279",
   "metadata": {},
   "source": [
    "The MSE of Linear Regression model is  4326906256.829671.\n",
    "Whereas,the MSE of Lasso Regression model is  4326859771.015669.\n",
    "The difference between them is very little.\n",
    "The R Squared value of Linear and Lasso regression model are  0.36759313425902185 and 0.3675999284778446 respectievely.\n",
    "Here also the difference between them is very little."
   ]
  },
  {
   "cell_type": "markdown",
   "id": "3d6ee66b",
   "metadata": {},
   "source": [
    "INFERENCE:By observing the MSE and R Squared error we can see that Lasso Regression model is performing better than Linear Regression model."
   ]
  }
 ],
 "metadata": {
  "kernelspec": {
   "display_name": "Python 3 (ipykernel)",
   "language": "python",
   "name": "python3"
  },
  "language_info": {
   "codemirror_mode": {
    "name": "ipython",
    "version": 3
   },
   "file_extension": ".py",
   "mimetype": "text/x-python",
   "name": "python",
   "nbconvert_exporter": "python",
   "pygments_lexer": "ipython3",
   "version": "3.9.13"
  }
 },
 "nbformat": 4,
 "nbformat_minor": 5
}
